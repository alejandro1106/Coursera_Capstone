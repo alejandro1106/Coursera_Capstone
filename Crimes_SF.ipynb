{
 "cells": [
  {
   "cell_type": "markdown",
   "metadata": {},
   "source": [
    "# Applied Data Science Capstone"
   ]
  },
  {
   "cell_type": "markdown",
   "metadata": {},
   "source": [
    "This notebook has the purpose to develop the Applied Data Science Capstone Project Course of the Data Science Professional Certificate by IBM and Coursera."
   ]
  },
  {
   "cell_type": "markdown",
   "metadata": {},
   "source": [
    "# Introduction/Business Problem"
   ]
  },
  {
   "cell_type": "markdown",
   "metadata": {},
   "source": [
    "A strategy to fight against crime is to create a police station where different situations can be attended such as receive reports of crimes suffered by neighbors and prosecute criminals more efficiently. Also, policemen can get out from the station to patrol the neighborhood. The decision about where to place the new police station must be based on crimes rates in the city, due to the neighborhood with the highest crimes rate is a priority to counter crimes."
   ]
  },
  {
   "cell_type": "markdown",
   "metadata": {},
   "source": [
    "# Data"
   ]
  },
  {
   "cell_type": "markdown",
   "metadata": {},
   "source": [
    "Datasets to be used are:\n",
    "\n",
    "+ **Police Department Incidents for 2016 in San Francisco:** this data was obtained from San Francisco public data portal and includes incident number, category, description, day of week, date, time, police deparment district, resolution, address, latitude, longitude and police department id. Dataset can be downloaded from next link:  'https://s3-api.us-geo.objectstorage.softlayer.net/cf-courses-data/CognitiveClass/DV0101EN/labs/Data_Files/Police_Department_Incidents_-_Previous_Year__2016_.csv'\n",
    "\n",
    "+ **Neighborhoods in San Francisco:** the boundaries of the different neighborhoods in San Francisco is in a GeoJSON file, which can be downloaded from this link: 'https://cocl.us/sanfran_geojson'\n",
    "\n",
    "Police Department Incidents dataset in addition to Neighborhoods in San Francisco GeoJSON file can be seized in building a map to visualize locations where incidents happened and identify the neighborhood to which the location corresponds. As a result, the map allows to identify visually the neighborhood with the highest rate of crimes and with a deeper analysis it can be identified the borough with the greatest criminal activity."
   ]
  },
  {
   "cell_type": "code",
   "execution_count": null,
   "metadata": {},
   "outputs": [],
   "source": []
  }
 ],
 "metadata": {
  "kernelspec": {
   "display_name": "Python 3",
   "language": "python",
   "name": "python3"
  },
  "language_info": {
   "codemirror_mode": {
    "name": "ipython",
    "version": 3
   },
   "file_extension": ".py",
   "mimetype": "text/x-python",
   "name": "python",
   "nbconvert_exporter": "python",
   "pygments_lexer": "ipython3",
   "version": "3.6.5"
  }
 },
 "nbformat": 4,
 "nbformat_minor": 2
}
